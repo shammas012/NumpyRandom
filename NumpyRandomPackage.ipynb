{
 "cells": [
  {
   "cell_type": "markdown",
   "metadata": {},
   "source": [
    "# Analysis on numpy.random package"
   ]
  },
  {
   "cell_type": "code",
   "execution_count": null,
   "metadata": {
    "collapsed": true
   },
   "outputs": [],
   "source": [
    "    "
   ]
  },
  {
   "cell_type": "markdown",
   "metadata": {},
   "source": [
    "## Introduction:\n",
    "Randomness play a key role in Data Analysis and Machine Learning. It is used as a tool to learn algorithms that make predictions and to achieve better mapping of the input and output data.\n",
    "\n",
    "A random number generator is a system that generates random numbers from a true source of randomness. But python language provides the \"random\" module that implements this randomness with the help of the mathematical calculation modules called the Psuedorandom Number Generators.\n",
    "\n",
    "Most of the python libraries make use of Numpy package under the cover.Numpy is an open source extensional package for python mostly written in C language. The powerful datastructures of this package designed foscientific computation, helps developers to implement complex multi dimensional arrays and matrices. \n",
    "\n",
    "Numpy library has its own implemetation of the Psuedorandom Number Generator along with wrapper methods. These functions are included in numpy.random.\n",
    "\n",
    "Inorder to use Numpy package in python, the developer should import the library first, like any other package."
   ]
  },
  {
   "cell_type": "markdown",
   "metadata": {},
   "source": [
    "## Numpy.random package\n",
    "The Numpy.random package contains functions that can be used for sampling data randomnly.These functions are classified as Simple Random Data, Permutations , Distributions and Random Generator functions.They are classified based on the type of data they act on and nature of the output the function generates.\n",
    "\n",
    "\n"
   ]
  },
  {
   "cell_type": "code",
   "execution_count": 18,
   "metadata": {},
   "outputs": [
    {
     "data": {
      "text/plain": [
       "array([[-0.5045555 ,  1.37861052],\n",
       "       [-0.63646745,  0.02357968],\n",
       "       [-0.06678479,  0.10883535],\n",
       "       [ 1.70304346, -0.93756946],\n",
       "       [ 0.58175111,  0.73245928],\n",
       "       [-0.69346922, -0.22358743],\n",
       "       [ 0.33324153,  0.7019954 ],\n",
       "       [ 0.14489974, -1.75641231],\n",
       "       [-0.30913371,  0.15721374],\n",
       "       [-1.38985172,  1.80800337]])"
      ]
     },
     "execution_count": 18,
     "metadata": {},
     "output_type": "execute_result"
    }
   ],
   "source": [
    "import numpy as np\n",
    "import matplotlib.pyplot as plt\n",
    "\n",
    "x=np.random.randn(10,2)\n",
    "x\n",
    "#plt.hist(x, histtype='bar',normed=True)\n",
    "#plt.show()"
   ]
  },
  {
   "cell_type": "markdown",
   "metadata": {},
   "source": [
    "The numpy.random"
   ]
  },
  {
   "cell_type": "markdown",
   "metadata": {},
   "source": [
    "### References:\n",
    "\n",
    "https://www.python-course.eu/numpy.php\n",
    "\n",
    "https://docs.scipy.org/doc/numpy-1.15.1/reference/routines.random.html\n",
    "\n",
    "https://machinelearningmastery.com/introduction-to-random-number-generators-for-machine-learning/\n",
    "\n",
    "https://www.investopedia.com/terms/s/simple-random-sample.asp"
   ]
  },
  {
   "cell_type": "code",
   "execution_count": null,
   "metadata": {
    "collapsed": true
   },
   "outputs": [],
   "source": []
  }
 ],
 "metadata": {
  "kernelspec": {
   "display_name": "Python 3",
   "language": "python",
   "name": "python3"
  },
  "language_info": {
   "codemirror_mode": {
    "name": "ipython",
    "version": 3
   },
   "file_extension": ".py",
   "mimetype": "text/x-python",
   "name": "python",
   "nbconvert_exporter": "python",
   "pygments_lexer": "ipython3",
   "version": "3.6.3"
  }
 },
 "nbformat": 4,
 "nbformat_minor": 2
}
