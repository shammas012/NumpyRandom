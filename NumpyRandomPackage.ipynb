{
 "cells": [
  {
   "cell_type": "markdown",
   "metadata": {},
   "source": [
    "# Analysis on numpy.random package"
   ]
  },
  {
   "cell_type": "markdown",
   "metadata": {},
   "source": [
    "## Introduction:\n",
    "Randomness play a key role in Data Analysis and Machine Learning and it is used as a tool to learn algorithms that make predictions and to achieve better mapping of the input and output data.\n",
    "\n",
    "A random number generator is a system that generates random numbers from a true source of randomness. But python language provides the \"random\" module that implements this randomness with the help of the mathematical calculation modules called the Psuedorandom Number Generators. One of the most popular pseudo random number generator available today is Mersenne Twister develped by Makoto Matsumoto and Takuji Nishimura and almost all random number generating software packages implements it.\n",
    "\n",
    "The python language also have an implementation of the Mersenne Twister which is included in the python stdlib \"random\" module. In this article we are talking about the random sampling based on the numpy package.\n",
    "\n",
    "Most of the python libraries make use of Numpy package under the cover. Numpy is an open source extensional package for python mostly written in C language. The powerful datastructures of this package designed for scientific computation, helps developers to implement even complex multi dimensional arrays and matrices. \n",
    "\n",
    "Numpy library has its own implemetation of the Psuedorandom Number Generator along with wrapper methods. These functions are included in numpy.random package. Advantage of numpy.random over normal python random package is that numpy.random provides a large number of probability distributions."
   ]
  },
  {
   "cell_type": "markdown",
   "metadata": {},
   "source": [
    "## Numpy.random package\n",
    "The Numpy.random package contains functions that can be used for sampling data randomnly. Numpy.random.randomstate() is the Container or class for the Mersenne Twister pseudo-random number generator. The functions in randomstate class can be classified as Simple Random Data, Permutations and Distributions functions. These classification is based on the type of data or distributions from which they return the random data sample."
   ]
  },
  {
   "cell_type": "code",
   "execution_count": 2,
   "metadata": {
    "collapsed": true
   },
   "outputs": [],
   "source": [
    "import numpy as np\n",
    "import matplotlib.pyplot as plt\n",
    "import matplotlib.pylab as pylab\n",
    "from matplotlib import cm, colors\n",
    "from numpy import random as rm"
   ]
  },
  {
   "cell_type": "markdown",
   "metadata": {},
   "source": [
    "### Simple Random Data functions\n",
    "Before moving to the functions, one might need to familiarise a few basic statistical terms. The distribution of a statistical data set shows the list of all the possible values. The central tendency of a dataset can be explained by the characteristics Mean, Median and Mode. \n",
    "The mean of a sequence of numbers can be calculated by adding all numbers of the sequence and diving the total by numbers of elements in the sequents. To find the Median, numerologically sort the numbers in a sequence and find the item in the middle of the sorted sequence. The number that occurs most frequently in a dataset is Mode of the dataset.\n",
    "In this section, we discuss about the various functions that come under the simple random data category."
   ]
  },
  {
   "cell_type": "markdown",
   "metadata": {},
   "source": [
    "#### rand function:\n",
    "The rand function can be used to create an array of specified shape and initialize the array with random numbers. The created new array will contain random numbers between 0 and 1, including 0 but not 1. Here the random numbers are generated from a uniform distribution, which means each item in distribution has the equal probability to come up as an outcome.\n",
    "The below command creates a \"randSample1\" 1d array containing 10 random numbers. But the \"randSample2\" is 2d array as the dimension provided in command is (5,2)"
   ]
  },
  {
   "cell_type": "code",
   "execution_count": 3,
   "metadata": {
    "scrolled": true
   },
   "outputs": [
    {
     "name": "stdout",
     "output_type": "stream",
     "text": [
      "[  2.00089272e-01   2.06647007e-01   3.22074881e-01   5.00640501e-01\n",
      "   5.55476675e-01   2.50395668e-01   8.27139575e-01   7.47777375e-04\n",
      "   6.24393052e-01   8.45963143e-02]\n",
      "[[ 0.52523285  0.54976519]\n",
      " [ 0.57711521  0.34869518]\n",
      " [ 0.93577603  0.79576602]\n",
      " [ 0.48536303  0.53077798]\n",
      " [ 0.66245546  0.80853998]]\n"
     ]
    }
   ],
   "source": [
    "randSample1 = np.random.rand(10) # rand function with one argument\n",
    "print(randSample1)\n",
    "randSample2 = rm.rand(5,2) # rand function with two arguments\n",
    "print (randSample2)"
   ]
  },
  {
   "cell_type": "markdown",
   "metadata": {},
   "source": [
    "The below commands plot an one dimensional array generated by rand function. The plot shows that the random numbers are generated almost equally across the distribution."
   ]
  },
  {
   "cell_type": "code",
   "execution_count": 4,
   "metadata": {
    "scrolled": true
   },
   "outputs": [
    {
     "name": "stdout",
     "output_type": "stream",
     "text": [
      "Mean : 0.484349\n",
      "SD : 0.290371\n"
     ]
    },
    {
     "data": {
      "image/png": "[encoded data removed]",
      "text/plain": [
       "<matplotlib.figure.Figure at 0x225c10e6278>"
      ]
     },
     "metadata": {},
     "output_type": "display_data"
    }
   ],
   "source": [
    "data = rm.rand(1000)\n",
    "plt.hist(data, facecolor='c')\n",
    "print (\"Mean : %g\"  %np.mean(data)) #print mean of the rm.rand(1000)\n",
    "print (\"SD : %g\"  %np.std(data))    #print standard deviance of the rm.rand(1000)\n",
    "plt.show()                          #show the plt"
   ]
  },
  {
   "cell_type": "markdown",
   "metadata": {},
   "source": [
    "#### randn function:\n",
    "The randn functions generate random numbers from a standard normal distribution dataset. The normal distribution means the outcome will be near to the average of the samples. If such a normal distribution has a mean of zero and standard deviation of one, such distribution is called standard normal distribution.\n"
   ]
  },
  {
   "cell_type": "code",
   "execution_count": 5,
   "metadata": {
    "scrolled": true
   },
   "outputs": [
    {
     "name": "stdout",
     "output_type": "stream",
     "text": [
      "[[ 0.38667117 -2.01901974  1.31012532  0.83457635]\n",
      " [ 0.01091441  1.37160713 -0.91198945  0.25915306]\n",
      " [ 1.07415966  2.44647177 -1.44322194  0.5085711 ]]\n"
     ]
    }
   ],
   "source": [
    "print(rm.randn(3,4)) # randn function taking two arguments"
   ]
  },
  {
   "cell_type": "markdown",
   "metadata": {},
   "source": [
    "An n dimensional array will be returned by function when all dimensions provided are non negative, and if any no arguments are provided, the function will return a random float."
   ]
  },
  {
   "cell_type": "code",
   "execution_count": 261,
   "metadata": {
    "scrolled": true
   },
   "outputs": [
    {
     "name": "stdout",
     "output_type": "stream",
     "text": [
      "Mean : -0.00156094\n",
      "SD : 1.02102\n"
     ]
    },
    {
     "data": {
      "image/png": "[encoded data removed]",
      "text/plain": [
       "<matplotlib.figure.Figure at 0x236e9a5ad68>"
      ]
     },
     "metadata": {},
     "output_type": "display_data"
    }
   ],
   "source": [
    "data = rm.randn(1000)     # assign rm.randn(1000) to data\n",
    "plt.hist(data)\n",
    "print (\"Mean : %g\"  %np.mean(data)) #print mean of the rm.randn(1000)\n",
    "print (\"SD : %g\"  %np.std(data))    #print standard deviance of the rm.randn(1000)\n",
    "plt.show()\n"
   ]
  },
  {
   "cell_type": "code",
   "execution_count": 262,
   "metadata": {},
   "outputs": [
    {
     "name": "stdout",
     "output_type": "stream",
     "text": [
      "Mean : -0.00516002\n",
      "SD : 0.996056\n"
     ]
    },
    {
     "data": {
      "image/png": "[encoded data removed]",
      "text/plain": [
       "<matplotlib.figure.Figure at 0x236e927b518>"
      ]
     },
     "metadata": {},
     "output_type": "display_data"
    }
   ],
   "source": [
    "N = 1000\n",
    "sample = rm.randn(N)\n",
    "colors = rm.randn(N)\n",
    "area = (30 * rm.randn(N))**2 # set the area of the scatter plot\n",
    "print (\"Mean : %g\"  %np.mean(sample)) #print mean of the rm.randn(1000)\n",
    "print (\"SD : %g\"  %np.std(sample))  #print standard deviance of the rm.randn(1000)\n",
    "plt.scatter(sample, rm.randn(N), s=area, c=colors, alpha=0.5)\n",
    "plt.show()"
   ]
  },
  {
   "cell_type": "code",
   "execution_count": 263,
   "metadata": {},
   "outputs": [
    {
     "name": "stdout",
     "output_type": "stream",
     "text": [
      "-0.00086118062422\n"
     ]
    }
   ],
   "source": [
    "print(np.mean(rm.randn(100000), dtype=np.float64)) # calculating mean using float64 is more accurate"
   ]
  },
  {
   "cell_type": "markdown",
   "metadata": {},
   "source": [
    "unlike the rand function, the above plot shows that the majority of the values returned by the randn functions are near to the average of the total results."
   ]
  },
  {
   "cell_type": "markdown",
   "metadata": {},
   "source": [
    "#### choice function:\n",
    "This function generates a random sample from the provided one dimensional array. For example the below command generates 6 samples from the provided array"
   ]
  },
  {
   "cell_type": "code",
   "execution_count": 264,
   "metadata": {},
   "outputs": [
    {
     "name": "stdout",
     "output_type": "stream",
     "text": [
      "[ 0 12 16 14  6  6]\n"
     ]
    }
   ],
   "source": [
    "print(rm.choice(np.arange(0,20,2),6,replace='True')) # arange creates an 1d array [0,2,4...16,18] \n",
    "                                                    #and choice function choose any six random items from the array"
   ]
  },
  {
   "cell_type": "code",
   "execution_count": 265,
   "metadata": {},
   "outputs": [
    {
     "name": "stdout",
     "output_type": "stream",
     "text": [
      "Mean : -0.00516002\n",
      "SD : 0.996056\n"
     ]
    },
    {
     "data": {
      "image/png": "[encoded data removed]",
      "text/plain": [
       "<matplotlib.figure.Figure at 0x236e92f5748>"
      ]
     },
     "metadata": {},
     "output_type": "display_data"
    }
   ],
   "source": [
    "data = rm.choice(np.arange(0,2000,2),6,replace='True')\n",
    "print (\"Mean : %g\"  %np.mean(sample))\n",
    "print (\"SD : %g\"  %np.std(sample))\n",
    "plt.plot(data)\n",
    "plt.show()"
   ]
  },
  {
   "cell_type": "markdown",
   "metadata": {},
   "source": [
    "### Permutations\n",
    "Permutation and Shuffle are the two funtions from numpy.random package that are included in the Permutations category.\n",
    "Unlike the simple random data functions, these functions are mainly used to arrange and organize the data."
   ]
  },
  {
   "cell_type": "markdown",
   "metadata": {},
   "source": [
    "#### Permutation\n",
    "In Statistics the word permutation means arrangement of a set of objects, considering the number of arrangements. Or it is number of possible ways the \"r\" number of items from selected set containing n numbers can be arranged. The equation to find the permutation nPr is n!/(n-r)!\n",
    "\n",
    "The numpy.random.permutation(x) function will return a permuted array when x is an array. When x is an integer, the numpy.arange(x) will be permuted and returned as output.\n",
    "\n",
    "For example, the below command create an array like the function numpy.arange(15) do and then arrange the numbers in the array in any possible order randomly. The value on array perm1 sould be different from perm2.\n"
   ]
  },
  {
   "cell_type": "code",
   "execution_count": 266,
   "metadata": {},
   "outputs": [
    {
     "name": "stdout",
     "output_type": "stream",
     "text": [
      "[14 13  9  1 10  6  8 12  5  7 11  0  3  4  2]\n"
     ]
    }
   ],
   "source": [
    "perm1 = np.random.permutation(15)\n",
    "print(perm1)"
   ]
  },
  {
   "cell_type": "code",
   "execution_count": 267,
   "metadata": {},
   "outputs": [
    {
     "name": "stdout",
     "output_type": "stream",
     "text": [
      "[ 3 12  0  4 10  7  1  6  8  2 11  9  5 13 14]\n"
     ]
    }
   ],
   "source": [
    "perm2 = np.random.permutation(15)\n",
    "print(perm2)"
   ]
  },
  {
   "cell_type": "markdown",
   "metadata": {},
   "source": [
    "The numpy.random.permutation function can take an array as input and rearrange it."
   ]
  },
  {
   "cell_type": "code",
   "execution_count": 268,
   "metadata": {},
   "outputs": [
    {
     "data": {
      "text/plain": [
       "array([ 7, 19, 55,  9, 21, 67])"
      ]
     },
     "execution_count": 268,
     "metadata": {},
     "output_type": "execute_result"
    }
   ],
   "source": [
    "np.random.permutation([7,9,19,21,55,67])"
   ]
  },
  {
   "cell_type": "markdown",
   "metadata": {},
   "source": [
    "when a multi dimensioned array is passed as parameter to the permutation function, the items along each column will only be rearranged."
   ]
  },
  {
   "cell_type": "code",
   "execution_count": 269,
   "metadata": {},
   "outputs": [
    {
     "name": "stdout",
     "output_type": "stream",
     "text": [
      "[[[[ 0  1]\n",
      "   [ 2  3]]\n",
      "\n",
      "  [[ 4  5]\n",
      "   [ 6  7]]]\n",
      "\n",
      "\n",
      " [[[ 8  9]\n",
      "   [10 11]]\n",
      "\n",
      "  [[12 13]\n",
      "   [14 15]]]\n",
      "\n",
      "\n",
      " [[[16 17]\n",
      "   [18 19]]\n",
      "\n",
      "  [[20 21]\n",
      "   [22 23]]]]\n"
     ]
    }
   ],
   "source": [
    "permArray = np.arange(24).reshape(3,2,2,2)\n",
    "print(permArray)"
   ]
  },
  {
   "cell_type": "markdown",
   "metadata": {},
   "source": [
    "The permutation function will rearrange the PermArray below. As you can see only the outer array is being rearranged, while the members inside the inner array remains the same"
   ]
  },
  {
   "cell_type": "code",
   "execution_count": 270,
   "metadata": {},
   "outputs": [
    {
     "data": {
      "text/plain": [
       "array([[[[ 8,  9],\n",
       "         [10, 11]],\n",
       "\n",
       "        [[12, 13],\n",
       "         [14, 15]]],\n",
       "\n",
       "\n",
       "       [[[16, 17],\n",
       "         [18, 19]],\n",
       "\n",
       "        [[20, 21],\n",
       "         [22, 23]]],\n",
       "\n",
       "\n",
       "       [[[ 0,  1],\n",
       "         [ 2,  3]],\n",
       "\n",
       "        [[ 4,  5],\n",
       "         [ 6,  7]]]])"
      ]
     },
     "execution_count": 270,
     "metadata": {},
     "output_type": "execute_result"
    }
   ],
   "source": [
    "np.random.permutation(permArray)\n"
   ]
  },
  {
   "cell_type": "code",
   "execution_count": 271,
   "metadata": {},
   "outputs": [
    {
     "data": {
      "text/plain": [
       "array([[[[ 0,  1],\n",
       "         [ 2,  3]],\n",
       "\n",
       "        [[ 4,  5],\n",
       "         [ 6,  7]]],\n",
       "\n",
       "\n",
       "       [[[ 8,  9],\n",
       "         [10, 11]],\n",
       "\n",
       "        [[12, 13],\n",
       "         [14, 15]]],\n",
       "\n",
       "\n",
       "       [[[16, 17],\n",
       "         [18, 19]],\n",
       "\n",
       "        [[20, 21],\n",
       "         [22, 23]]]])"
      ]
     },
     "execution_count": 271,
     "metadata": {},
     "output_type": "execute_result"
    }
   ],
   "source": [
    "np.random.permutation(permArray)"
   ]
  },
  {
   "cell_type": "markdown",
   "metadata": {},
   "source": [
    "#### shuffle:\n",
    "Unlike the permutation function, the shuffle function can only rearrange the contents of an existing array or list. "
   ]
  },
  {
   "cell_type": "code",
   "execution_count": 272,
   "metadata": {},
   "outputs": [
    {
     "name": "stdout",
     "output_type": "stream",
     "text": [
      "[ 0  1  2  3  4  5  6  7  8  9 10 11]\n"
     ]
    }
   ],
   "source": [
    "newArray = np.arange(12)\n",
    "print(newArray)"
   ]
  },
  {
   "cell_type": "code",
   "execution_count": 273,
   "metadata": {},
   "outputs": [
    {
     "name": "stdout",
     "output_type": "stream",
     "text": [
      "[ 5  3 11  4  8  9  6  2  1  7 10  0]\n"
     ]
    }
   ],
   "source": [
    "np.random.shuffle(newArray)\n",
    "print(newArray)"
   ]
  },
  {
   "cell_type": "markdown",
   "metadata": {},
   "source": [
    "The command np.random.shuffle(np.arange(12)) will not produce any output as parameter passed to shuffle function should already exist. The order of the sub arrays change when multidimensional arrays are passed to shuffle function, but the contents of sub arrays remain the same."
   ]
  },
  {
   "cell_type": "code",
   "execution_count": 274,
   "metadata": {},
   "outputs": [
    {
     "name": "stdout",
     "output_type": "stream",
     "text": [
      "[[[[ 8  9]\n",
      "   [10 11]]\n",
      "\n",
      "  [[12 13]\n",
      "   [14 15]]]\n",
      "\n",
      "\n",
      " [[[ 0  1]\n",
      "   [ 2  3]]\n",
      "\n",
      "  [[ 4  5]\n",
      "   [ 6  7]]]\n",
      "\n",
      "\n",
      " [[[16 17]\n",
      "   [18 19]]\n",
      "\n",
      "  [[20 21]\n",
      "   [22 23]]]]\n"
     ]
    }
   ],
   "source": [
    "np.random.shuffle(permArray)\n",
    "print(permArray)"
   ]
  },
  {
   "cell_type": "markdown",
   "metadata": {},
   "source": [
    "### Distributions\n",
    "Some of the functions from numpy.random.package that are classified as distributions are discussed here."
   ]
  },
  {
   "cell_type": "markdown",
   "metadata": {},
   "source": [
    "#### binomial\n",
    "The binomial distribution is a frequency distribution that models the possible number of successful outcomes in a given number of trials, and there is the same probability of success. The two parameters that define binomial distribution are  the probability of success (p) in any given trial and the number of trials(n). The binomial distribution tells us the probablilty of achieving a given number of successes in n trials of the event.\n",
    "\n",
    "The numpy.random.binomial function provides the value from a binomial distribution as output.\n",
    "\n",
    "Suppose that a box contains black and blue inked pens. The pens in the box is mixed such that 50 percent of the pens are with blue ink and  and 50 percent are having black ink. The experiment is to choose 10 pens at random. Choosing blue pen is considered as a success. The probability distribution of the number of successes during these ten trials with p = 0.5 is shown below."
   ]
  },
  {
   "cell_type": "code",
   "execution_count": 6,
   "metadata": {
    "scrolled": true
   },
   "outputs": [
    {
     "name": "stdout",
     "output_type": "stream",
     "text": [
      "Mean : 5.084\n",
      "SD : 1.60778\n"
     ]
    },
    {
     "data": {
      "image/png": "[encoded data removed]",
      "text/plain": [
       "<matplotlib.figure.Figure at 0x225c10f1da0>"
      ]
     },
     "metadata": {},
     "output_type": "display_data"
    }
   ],
   "source": [
    "n, p = 10, .5  # number of trials, probability of each trial\n",
    "bino = np.random.binomial(n, p, 1000) #draw a sample from binomial distribution as output.\n",
    "print (\"Mean : %g\"  %np.mean(bino))\n",
    "print (\"SD : %g\"  %np.std(bino))\n",
    "plt.hist(bino,facecolor='m')\n",
    "plt.title('Binomial Distribution')\n",
    "plt.show()"
   ]
  },
  {
   "cell_type": "markdown",
   "metadata": {},
   "source": [
    "If the probability of success in an experiment is greater than 0.5, such distribution is called positively skewed binomila distribution. The below plotting is an example."
   ]
  },
  {
   "cell_type": "code",
   "execution_count": 7,
   "metadata": {
    "scrolled": true
   },
   "outputs": [
    {
     "name": "stdout",
     "output_type": "stream",
     "text": [
      "Mean : 8.042\n",
      "SD : 1.28539\n"
     ]
    },
    {
     "data": {
      "image/png": "[encoded data removed]",
      "text/plain": [
       "<matplotlib.figure.Figure at 0x225c13a69b0>"
      ]
     },
     "metadata": {},
     "output_type": "display_data"
    }
   ],
   "source": [
    "n, p = 10, .8  # number of trials, probability of each trial\n",
    "bino = np.random.binomial(n, p, 1000) # returns a sample from positively skewed binomial distribution\n",
    "print (\"Mean : %g\"  %np.mean(bino))\n",
    "print (\"SD : %g\"  %np.std(bino))\n",
    "plt.hist(bino, bins=10)\n",
    "plt.title('Possitively Skewed Binomial Distribution')\n",
    "plt.show()"
   ]
  },
  {
   "cell_type": "markdown",
   "metadata": {},
   "source": [
    "If the probability of success in an experiment is less than 0.5, such distribution is called negatively skewed binomila distribution. The below plotting is an example."
   ]
  },
  {
   "cell_type": "code",
   "execution_count": 277,
   "metadata": {
    "scrolled": true
   },
   "outputs": [
    {
     "name": "stdout",
     "output_type": "stream",
     "text": [
      "Mean : 0.966\n",
      "SD : 0.90931\n"
     ]
    },
    {
     "data": {
      "image/png": "[encoded data removed]",
      "text/plain": [
       "<matplotlib.figure.Figure at 0x236e920f550>"
      ]
     },
     "metadata": {},
     "output_type": "display_data"
    }
   ],
   "source": [
    "n, p = 10, .1  # number of trials, probability of each trial\n",
    "bino = np.random.binomial(n, p, 1000)  #returns a sample from negatively skewed binomial distribution\n",
    "print (\"Mean : %g\"  %np.mean(bino))\n",
    "print (\"SD : %g\"  %np.std(bino))\n",
    "plt.hist(bino,facecolor='b')\n",
    "plt.title('Negatively Skewed Binomial Distribution')\n",
    "plt.show()"
   ]
  },
  {
   "cell_type": "markdown",
   "metadata": {},
   "source": [
    "#### Normal Distribution\n",
    "\n",
    "The normal distribution also known as \"bell curve\" or \"guassian distribution\" is the most important and most widely used distribution in statistics. This distribution is characterised by two parameters, the mean (μ) and the standard deviation (σ). The main features of this distribution is that its mean, mode and median are equal and its symmetric around their mean.\n",
    "\n",
    "The numpy.random.normal function draw the samples from a normal distribution and hence the name. The function takes three parameters: loc, scale and size denoting mean of the distribution, standard deviation of the distribution and output shape respectively.Normal distribution can take values from minus infinity to plus infinity. \n",
    "\n",
    "The below example plot the graph of a standard normal distribution, with parameters μ equal to 0 and σ equal to 1."
   ]
  },
  {
   "cell_type": "code",
   "execution_count": 278,
   "metadata": {
    "scrolled": true
   },
   "outputs": [
    {
     "name": "stdout",
     "output_type": "stream",
     "text": [
      "Mean : 0.0100426\n",
      "SD : 0.976326\n"
     ]
    },
    {
     "data": {
      "image/png": "[encoded data removed]",
      "text/plain": [
       "<matplotlib.figure.Figure at 0x236e5130198>"
      ]
     },
     "metadata": {},
     "output_type": "display_data"
    }
   ],
   "source": [
    "mu, sigma = 0, 1 # mean and standard deviation\n",
    "norm = np.random.normal(mu, sigma, 1000) # provide output from a normal distribution\n",
    "plt.hist(norm, density=True, facecolor='y')\n",
    "print (\"Mean : %g\"  %np.mean(norm))\n",
    "print (\"SD : %g\"  %np.std(norm))\n",
    "plt.title('Normal Distribution')\n",
    "plt.show()"
   ]
  },
  {
   "attachments": {
    "pdf-triangular.png": {
     "image/png": "[encoded data removed]"
    }
   },
   "cell_type": "markdown",
   "metadata": {},
   "source": [
    "#### Triangular distribution\n",
    "Triangular distribution or continuos probability distribution is defined by a minimum value (a) left , peak value (c) at mode and maximum value (b) at right, where a ≤ c ≤ b.\n",
    "\n",
    "The probability density function helps to find the probability of a random variable in a particular range is calculated  by:![pdf-triangular.png](attachment:pdf-triangular.png)\n",
    "\n",
    "The numpy.random.triangular() package draw a random sample from the traingular distribution for an interval [a,b]  \n",
    "\n",
    "The graphical representation of samples from a triangular distribution is shown below."
   ]
  },
  {
   "cell_type": "code",
   "execution_count": 279,
   "metadata": {
    "scrolled": true
   },
   "outputs": [
    {
     "name": "stdout",
     "output_type": "stream",
     "text": [
      "Mean : 1.67595\n",
      "SD : 2.32199\n"
     ]
    },
    {
     "data": {
      "image/png": "[encoded data removed]",
      "text/plain": [
       "<matplotlib.figure.Figure at 0x236e5fb9b00>"
      ]
     },
     "metadata": {},
     "output_type": "display_data"
    }
   ],
   "source": [
    "import pandas as pd\n",
    "tri = np.random.triangular(-3, 0, 8, 100000) # output is generate from a triangular distribution\n",
    "print (\"Mean : %g\"  %np.mean(tri))\n",
    "print (\"SD : %g\"  %np.std(tri))\n",
    "plt.hist(tri,bins=1000, normed=True, facecolor='g', alpha=0.75)\n",
    "plt.title('Triangular Distribution')\n",
    "plt.show()"
   ]
  },
  {
   "cell_type": "markdown",
   "metadata": {},
   "source": [
    "#### Poisson Distribution\n",
    "Poisson Distribution is characterized by a rate parameter λ and the numbers of events occuring in a particular tim einterval. λ is directly proportional to the number of events occur or it defines the rate at which number of events occurs.\n",
    "\n",
    "numpy.random.poisson package draws a random sample from the poisson distribution and hence the name."
   ]
  },
  {
   "cell_type": "code",
   "execution_count": 280,
   "metadata": {
    "scrolled": true
   },
   "outputs": [
    {
     "name": "stdout",
     "output_type": "stream",
     "text": [
      "Mean : 2\n",
      "SD : 1.42829\n"
     ]
    },
    {
     "data": {
      "image/png": "[encoded data removed]",
      "text/plain": [
       "<matplotlib.figure.Figure at 0x236e5fc33c8>"
      ]
     },
     "metadata": {},
     "output_type": "display_data"
    }
   ],
   "source": [
    "poisson = np.random.poisson(2, 1000) # draw sample from a poisson distribution as output\n",
    "print (\"Mean : %g\"  %np.mean(poisson))\n",
    "print (\"SD : %g\"  %np.std(poisson))\n",
    "plt.hist(poisson,bins=9, normed=True,facecolor = 'r')\n",
    "plt.title('Poisson Distribution')\n",
    "plt.ylabel('Number of events')\n",
    "plt.show()"
   ]
  },
  {
   "cell_type": "markdown",
   "metadata": {},
   "source": [
    "From the graph above, its clear that number of events is maximum around the mean of the data sample."
   ]
  },
  {
   "cell_type": "markdown",
   "metadata": {},
   "source": [
    "#### Exponential Distribution\n",
    "The exponential distribution is realted to the Poisson distribution and it represents the probability in which events occur continuously and independently at a constant average rate. If the probability that an event can occur in any time interval is directly proportional to the duration of the time interval, then the waiting period \"X\" that happens before the occurence of an event has an exponential distribution.\n",
    "\n",
    "numpy.random.exponential package returns a random sample from an exponential distribution."
   ]
  },
  {
   "cell_type": "code",
   "execution_count": 281,
   "metadata": {
    "scrolled": false
   },
   "outputs": [
    {
     "name": "stdout",
     "output_type": "stream",
     "text": [
      "Mean : 3.9515\n",
      "SD : 3.87372\n"
     ]
    },
    {
     "data": {
      "image/png": "[encoded data removed]",
      "text/plain": [
       "<matplotlib.figure.Figure at 0x236e28bb2e8>"
      ]
     },
     "metadata": {},
     "output_type": "display_data"
    }
   ],
   "source": [
    "data = np.random.exponential(4, 2000)\n",
    "print (\"Mean : %g\"  %np.mean(data))\n",
    "print (\"SD : %g\"  %np.std(data))\n",
    "plt.xlim(0,25)\n",
    "plt.hist(data,bins=20, normed=True,color = '#15EFB4')\n",
    "plt.title('Exponential Distribution')\n",
    "plt.show()"
   ]
  },
  {
   "cell_type": "markdown",
   "metadata": {},
   "source": [
    "### Pseudo Random Number Generators and Seeding\n",
    "As mentioned in the introdcution, numpy uses the Mersenne Twister Algorithm to generate pseudo random numbers. This means all the functions we already discussed above are using this algorithm. Everytime when any of these functions are called, they provide a unique random value. There are some scenarios where we want to predict the output of the pseudo random number generators.\n",
    "\n",
    "All these function provide the output by performing some operation on a value. When a function is executed second time, it will do some operation on the output of the first execution and provide the result as output. But for the first execution, there is no previous value. So if we can pass a first \"previous value\" to a function, we can predict the random numbers generated by the function. Seeding is the process of providing a pseudo random number generator with its previous value for inital calculation. The previous value provided is called the seed. Current time is an example of a frequently used seed.\n",
    "\n",
    "numpy.randomstate.seed() function can be used for seeding the generator.\n",
    "\n",
    "Any Randomstate function that takes fixed seed on fixed number of calls will always provide the same output if the parameters used are same. Lets take the example of the first function explained in this article, \"rand\" function"
   ]
  },
  {
   "cell_type": "code",
   "execution_count": 282,
   "metadata": {
    "scrolled": true
   },
   "outputs": [
    {
     "name": "stdout",
     "output_type": "stream",
     "text": [
      "[ 0.54340494  0.27836939  0.42451759  0.84477613  0.00471886  0.12156912\n",
      "  0.67074908  0.82585276  0.13670659  0.57509333]\n"
     ]
    }
   ],
   "source": [
    "np.random.seed(100)     # initializing the RandomState class with seed 100\n",
    "randFirstExecution = np.random.rand(10)\n",
    "print(randFirstExecution)"
   ]
  },
  {
   "cell_type": "code",
   "execution_count": 283,
   "metadata": {},
   "outputs": [
    {
     "name": "stdout",
     "output_type": "stream",
     "text": [
      "Mean : 0.442576\n",
      "SD : 0.283561\n"
     ]
    },
    {
     "data": {
      "image/png": "[encoded data removed]",
      "text/plain": [
       "<matplotlib.figure.Figure at 0x236e5180128>"
      ]
     },
     "metadata": {},
     "output_type": "display_data"
    }
   ],
   "source": [
    "plt.hist(randFirstExecution, facecolor='#FF5733')\n",
    "print (\"Mean : %g\"  %np.mean(randFirstExecution))\n",
    "print (\"SD : %g\"  %np.std(randFirstExecution))\n",
    "plt.show()"
   ]
  },
  {
   "cell_type": "code",
   "execution_count": 284,
   "metadata": {},
   "outputs": [
    {
     "data": {
      "text/plain": [
       "array([ 8,  0, 18, 12,  4,  8])"
      ]
     },
     "execution_count": 284,
     "metadata": {},
     "output_type": "execute_result"
    }
   ],
   "source": [
    "rm.choice(np.arange(0,20,2),6,replace='True')"
   ]
  },
  {
   "cell_type": "code",
   "execution_count": 285,
   "metadata": {
    "scrolled": false
   },
   "outputs": [
    {
     "name": "stdout",
     "output_type": "stream",
     "text": [
      "[ 0.12665424  0.07898787  0.31135313  0.63238359  0.69935892  0.64196495\n",
      "  0.92002378  0.29887635  0.56874553  0.17862432]\n"
     ]
    }
   ],
   "source": [
    "randSecondExecution = np.random.rand(10) # execute the rand(10) again.\n",
    "print(randSecondExecution)"
   ]
  },
  {
   "cell_type": "code",
   "execution_count": 286,
   "metadata": {},
   "outputs": [
    {
     "name": "stdout",
     "output_type": "stream",
     "text": [
      "Mean : 0.445697\n",
      "SD : 0.269266\n"
     ]
    },
    {
     "data": {
      "image/png": "[encoded data removed]",
      "text/plain": [
       "<matplotlib.figure.Figure at 0x236e9a76710>"
      ]
     },
     "metadata": {},
     "output_type": "display_data"
    }
   ],
   "source": [
    "plt.hist(randSecondExecution, facecolor='#EC80C1')\n",
    "print (\"Mean : %g\"  %np.mean(randSecondExecution))\n",
    "print (\"SD : %g\"  %np.std(randSecondExecution))\n",
    "plt.show()"
   ]
  },
  {
   "cell_type": "code",
   "execution_count": 287,
   "metadata": {},
   "outputs": [
    {
     "data": {
      "text/plain": [
       "array([ 4, 18, 18,  6,  4, 10])"
      ]
     },
     "execution_count": 287,
     "metadata": {},
     "output_type": "execute_result"
    }
   ],
   "source": [
    "rm.choice(np.arange(0,20,2),6,replace='True')"
   ]
  },
  {
   "cell_type": "code",
   "execution_count": 288,
   "metadata": {
    "scrolled": false
   },
   "outputs": [
    {
     "name": "stdout",
     "output_type": "stream",
     "text": [
      "[ 0.54340494  0.27836939  0.42451759  0.84477613  0.00471886  0.12156912\n",
      "  0.67074908  0.82585276  0.13670659  0.57509333]\n"
     ]
    }
   ],
   "source": [
    "#resetting the seed again to 100\n",
    "np.random.seed(100)\n",
    "randThirdExecution = np.random.rand(10) # this will provide the same output as the randFirstExecution, as the seed is same.\n",
    "print(randThirdExecution)"
   ]
  },
  {
   "cell_type": "code",
   "execution_count": 289,
   "metadata": {},
   "outputs": [
    {
     "name": "stdout",
     "output_type": "stream",
     "text": [
      "Mean : 0.442576\n",
      "SD : 0.283561\n"
     ]
    },
    {
     "data": {
      "image/png": "[encoded data removed]",
      "text/plain": [
       "<matplotlib.figure.Figure at 0x236e9129a20>"
      ]
     },
     "metadata": {},
     "output_type": "display_data"
    }
   ],
   "source": [
    "plt.hist(randThirdExecution, facecolor='#FF5733')\n",
    "print (\"Mean : %g\"  %np.mean(randThirdExecution))\n",
    "print (\"SD : %g\"  %np.std(randThirdExecution))\n",
    "plt.show()"
   ]
  },
  {
   "cell_type": "code",
   "execution_count": 290,
   "metadata": {},
   "outputs": [
    {
     "data": {
      "text/plain": [
       "array([ 8,  0, 18, 12,  4,  8])"
      ]
     },
     "execution_count": 290,
     "metadata": {},
     "output_type": "execute_result"
    }
   ],
   "source": [
    "rm.choice(np.arange(0,20,2),6,replace='True')"
   ]
  },
  {
   "cell_type": "code",
   "execution_count": 291,
   "metadata": {
    "scrolled": false
   },
   "outputs": [
    {
     "name": "stdout",
     "output_type": "stream",
     "text": [
      "[ 0.12665424  0.07898787  0.31135313  0.63238359  0.69935892  0.64196495\n",
      "  0.92002378  0.29887635  0.56874553  0.17862432]\n"
     ]
    }
   ],
   "source": [
    "randFourthExecution = np.random.rand(10) #this will generate the same output as randSecondExecution\n",
    "print(randFourthExecution)"
   ]
  },
  {
   "cell_type": "code",
   "execution_count": 292,
   "metadata": {},
   "outputs": [
    {
     "name": "stdout",
     "output_type": "stream",
     "text": [
      "Mean : 0.445697\n",
      "SD : 0.269266\n"
     ]
    },
    {
     "data": {
      "image/png": "[encoded data removed]",
      "text/plain": [
       "<matplotlib.figure.Figure at 0x236e949e748>"
      ]
     },
     "metadata": {},
     "output_type": "display_data"
    }
   ],
   "source": [
    "plt.hist(randFourthExecution, facecolor='#EC80C1')\n",
    "print (\"Mean : %g\"  %np.mean(randFourthExecution))\n",
    "print (\"SD : %g\"  %np.std(randFourthExecution))\n",
    "plt.show()"
   ]
  },
  {
   "cell_type": "code",
   "execution_count": 293,
   "metadata": {},
   "outputs": [
    {
     "data": {
      "text/plain": [
       "array([ 4, 18, 18,  6,  4, 10])"
      ]
     },
     "execution_count": 293,
     "metadata": {},
     "output_type": "execute_result"
    }
   ],
   "source": [
    "rm.choice(np.arange(0,20,2),6,replace='True')"
   ]
  },
  {
   "cell_type": "markdown",
   "metadata": {},
   "source": [
    "The two executions of the np.random.rand() with argument 10 with same seed 100 created the same result set above.\n",
    "numpy.random.RandomState() class can also be used to set the seed to a pseudo number generator function."
   ]
  },
  {
   "cell_type": "code",
   "execution_count": 296,
   "metadata": {
    "scrolled": true
   },
   "outputs": [
    {
     "name": "stdout",
     "output_type": "stream",
     "text": [
      "[ 0.54340494  0.27836939  0.42451759  0.84477613  0.00471886  0.12156912\n",
      "  0.67074908  0.82585276  0.13670659  0.57509333]\n"
     ]
    }
   ],
   "source": [
    "seedVar = np.random.RandomState(100) # another method of initializing seed for RandomState.\n",
    "randFifthExecution = seedVar.rand(10)\n",
    "print(randFifthExecution)"
   ]
  },
  {
   "cell_type": "code",
   "execution_count": 297,
   "metadata": {},
   "outputs": [
    {
     "name": "stdout",
     "output_type": "stream",
     "text": [
      "Mean : 0.442576\n",
      "SD : 0.283561\n"
     ]
    },
    {
     "data": {
      "image/png": "[encoded data removed]",
      "text/plain": [
       "<matplotlib.figure.Figure at 0x236e949eb00>"
      ]
     },
     "metadata": {},
     "output_type": "display_data"
    }
   ],
   "source": [
    "plt.hist(randFifthExecution, facecolor='#FF5733') # the output will be same as randFirstExecution\n",
    "print (\"Mean : %g\"  %np.mean(randFifthExecution))\n",
    "print (\"SD : %g\"  %np.std(randFifthExecution))\n",
    "plt.show()"
   ]
  },
  {
   "cell_type": "markdown",
   "metadata": {},
   "source": [
    "### References:\n",
    "\n",
    "https://www.python-course.eu/numpy.php\n",
    "https://docs.scipy.org/doc/numpy-1.15.1/reference/routines.random.html\n",
    "https://machinelearningmastery.com/introduction-to-random-number-generators-for-machine-learning/\n",
    "https://www.investopedia.com/terms/s/simple-random-sample.asp\n",
    "https://www.dummies.com/education/math/statistics/what-the-distribution-tells-you-about-a-statistical-data-set/\n",
    "https://matplotlib.org/api/_as_gen/matplotlib.pyplot.scatter.html\n",
    "https://stackoverflow.com/questions/15474159/shuffle-vs-permute-numpy\n",
    "https://stattrek.com/statistics/dictionary.aspx?definition=permutation\n",
    "https://stattrek.com/probability-distributions/binomial.aspx\n",
    "https://www.dummies.com/education/math/business-statistics/how-to-graph-the-binomial-distribution/\n",
    "https://www.dummies.com/education/math/business-statistics/how-to-graph-the-binomial-distribution/\n",
    "https://www.mathworks.com/help/stats/normal-distribution.html\n",
    "http://onlinestatbook.com/2/normal_distribution/intro.html\n",
    "https://www.statisticshowto.datasciencecentral.com/triangular-distribution/\n",
    "https://emredjan.github.io/blog/2017/07/19/plotting-distributions/\n",
    "https://matplotlib.org/api/_as_gen/matplotlib.pyplot.hist.html\n",
    "https://bigdata-madesimple.com/how-to-implement-these-5-powerful-probability-distributions-in-python/\n",
    "https://www.statlect.com/probability-distributions/exponential-distribution\n",
    "https://blogs.mathworks.com/cleve/2015/04/17/random-number-generator-mersenne-twister/\n",
    "https://www.techopedia.com/definition/26136/statistical-mean\n",
    "https://searchdatacenter.techtarget.com/definition/statistical-mean-median-mode-and-range"
   ]
  }
 ],
 "metadata": {
  "kernelspec": {
   "display_name": "Python 3",
   "language": "python",
   "name": "python3"
  },
  "language_info": {
   "codemirror_mode": {
    "name": "ipython",
    "version": 3
   },
   "file_extension": ".py",
   "mimetype": "text/x-python",
   "name": "python",
   "nbconvert_exporter": "python",
   "pygments_lexer": "ipython3",
   "version": "3.6.3"
  }
 },
 "nbformat": 4,
 "nbformat_minor": 2
}
